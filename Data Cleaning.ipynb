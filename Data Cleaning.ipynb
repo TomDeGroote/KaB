{
 "cells": [
  {
   "cell_type": "code",
   "execution_count": 1,
   "metadata": {
    "collapsed": false
   },
   "outputs": [
    {
     "name": "stdout",
     "output_type": "stream",
     "text": [
      "?label             |\n",
      "=====================\n",
      "Asturias@en        |\n",
      "منطقة أستورياس@ar  |\n",
      "Asturien@de        |\n",
      "Asturias@es        |\n",
      "Asturies@fr        |\n",
      "Asturie@it         |\n",
      "アストゥリアス州@ja        |\n",
      "Asturië (regio)@nl |\n",
      "Asturia@pl         |\n",
      "Astúrias@pt        |\n",
      "Астурия@ru         |\n",
      "阿斯图里亚斯@zh          |\n",
      "\n",
      "?subdivision | ?label |\n",
      "========================\n"
     ]
    }
   ],
   "source": [
    "from SPARQLWrapper import SPARQLWrapper, JSON\n",
    "\n",
    "sparql = SPARQLWrapper(\"http://dbpedia.org/sparql\")\n",
    "\n",
    "sparql.setQuery(\"\"\"\n",
    "    PREFIX rdfs: <http://www.w3.org/2000/01/rdf-schema#>\n",
    "    SELECT ?label\n",
    "    WHERE { <http://dbpedia.org/resource/Asturias> rdfs:label ?label }\n",
    "\"\"\")\n",
    "sparql.setReturnFormat(JSON)\n",
    "results = sparql.query()\n",
    "results.print_results()\n",
    "\n",
    "print\n",
    "\n",
    "sparql.setQuery(\"\"\"\n",
    "PREFIX rdfs: <http://www.w3.org/2000/01/rdf-schema#>\n",
    "PREFIX dbpo: <http://dbpedia.org/property/>\n",
    "SELECT ?subdivision ?label \n",
    "WHERE { \n",
    "  <http://dbpedia.org/resource/Asturias> dbpo:subdivisionName ?subdivision .\n",
    "  ?subdivision rdfs:label ?label .\n",
    "}\n",
    "\"\"\")\n",
    "sparql.setReturnFormat(JSON)\n",
    "results = sparql.query()\n",
    "results.print_results()"
   ]
  },
  {
   "cell_type": "code",
   "execution_count": 47,
   "metadata": {
    "collapsed": true
   },
   "outputs": [],
   "source": [
    "import numpy as np\n",
    "import pandas as pd\n",
    "from collections import Counter\n",
    "import re"
   ]
  },
  {
   "cell_type": "markdown",
   "metadata": {
    "collapsed": true
   },
   "source": [
    "# Checking Routines"
   ]
  },
  {
   "cell_type": "code",
   "execution_count": 66,
   "metadata": {
    "collapsed": false
   },
   "outputs": [],
   "source": [
    "def check_numeric(arr):\n",
    "    flag = True\n",
    "    num_arr, flag = check_float(arr)\n",
    "    if flag:\n",
    "        num_arr, flag = check_int(num_arr)\n",
    "        if flag:\n",
    "            print(\"Array is Integer.\")\n",
    "    else:\n",
    "        print(\"Array is Float.\")\n",
    "    \n",
    "    return num_arr, flag\n",
    "    \n",
    "def check_int(arr):\n",
    "    flag = True\n",
    "    int_arr = []\n",
    "    for flo in arr:\n",
    "        bool_int = flo.is_integer()\n",
    "        if bool_int:\n",
    "            int_flo = int(flo)\n",
    "            int_arr.append(int_flo)\n",
    "        else:\n",
    "            int_arr.append(np.NaN)\n",
    "            flag = False\n",
    "        \n",
    "    return int_arr, flag\n",
    "\n",
    "def check_float(arr):\n",
    "    flag = True\n",
    "    float_arr = []\n",
    "    for s in arr:\n",
    "        try:\n",
    "            float_s = float(s)\n",
    "            float_arr.append(float_s)\n",
    "        except ValueError:\n",
    "            float_arr.append(np.NaN)\n",
    "            flag = False\n",
    "        \n",
    "    return float_arr, flag\n",
    "\n",
    "def check_categorical(arr):\n",
    "    Counter(arr)\n",
    "    return\n",
    "\n",
    "\n",
    "def check_string():\n",
    "    return"
   ]
  },
  {
   "cell_type": "code",
   "execution_count": 67,
   "metadata": {
    "collapsed": false
   },
   "outputs": [],
   "source": [
    "import numpy as np\n",
    "alpha = np.NaN"
   ]
  },
  {
   "cell_type": "code",
   "execution_count": 68,
   "metadata": {
    "collapsed": false
   },
   "outputs": [],
   "source": [
    "alpha = ['1', '2', '3', '46.0']"
   ]
  },
  {
   "cell_type": "code",
   "execution_count": 69,
   "metadata": {
    "collapsed": false
   },
   "outputs": [
    {
     "name": "stdout",
     "output_type": "stream",
     "text": [
      "Array is Integer.\n"
     ]
    },
    {
     "data": {
      "text/plain": [
       "([1, 2, 3, 46], True)"
      ]
     },
     "execution_count": 69,
     "metadata": {},
     "output_type": "execute_result"
    }
   ],
   "source": [
    "check_numeric(alpha)"
   ]
  },
  {
   "cell_type": "code",
   "execution_count": null,
   "metadata": {
    "collapsed": true
   },
   "outputs": [],
   "source": []
  }
 ],
 "metadata": {
  "anaconda-cloud": {},
  "kernelspec": {
   "display_name": "Python [default]",
   "language": "python",
   "name": "python2"
  },
  "language_info": {
   "codemirror_mode": {
    "name": "ipython",
    "version": 2
   },
   "file_extension": ".py",
   "mimetype": "text/x-python",
   "name": "python",
   "nbconvert_exporter": "python",
   "pygments_lexer": "ipython2",
   "version": "2.7.12"
  }
 },
 "nbformat": 4,
 "nbformat_minor": 0
}
