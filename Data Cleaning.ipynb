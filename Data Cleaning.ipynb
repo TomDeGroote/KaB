{
 "cells": [
  {
   "cell_type": "code",
   "execution_count": 1,
   "metadata": {
    "collapsed": false
   },
   "outputs": [
    {
     "name": "stdout",
     "output_type": "stream",
     "text": [
      "?label             |\n",
      "=====================\n",
      "Asturias@en        |\n",
      "منطقة أستورياس@ar  |\n",
      "Asturien@de        |\n",
      "Asturias@es        |\n",
      "Asturies@fr        |\n",
      "Asturie@it         |\n",
      "アストゥリアス州@ja        |\n",
      "Asturië (regio)@nl |\n",
      "Asturia@pl         |\n",
      "Astúrias@pt        |\n",
      "Астурия@ru         |\n",
      "阿斯图里亚斯@zh          |\n",
      "\n",
      "?subdivision | ?label |\n",
      "========================\n"
     ]
    }
   ],
   "source": [
    "from SPARQLWrapper import SPARQLWrapper, JSON\n",
    "\n",
    "sparql = SPARQLWrapper(\"http://dbpedia.org/sparql\")\n",
    "\n",
    "sparql.setQuery(\"\"\"\n",
    "    PREFIX rdfs: <http://www.w3.org/2000/01/rdf-schema#>\n",
    "    SELECT ?label\n",
    "    WHERE { <http://dbpedia.org/resource/Asturias> rdfs:label ?label }\n",
    "\"\"\")\n",
    "sparql.setReturnFormat(JSON)\n",
    "results = sparql.query()\n",
    "results.print_results()\n",
    "\n",
    "print\n",
    "\n",
    "sparql.setQuery(\"\"\"\n",
    "PREFIX rdfs: <http://www.w3.org/2000/01/rdf-schema#>\n",
    "PREFIX dbpo: <http://dbpedia.org/property/>\n",
    "SELECT ?subdivision ?label \n",
    "WHERE { \n",
    "  <http://dbpedia.org/resource/Asturias> dbpo:subdivisionName ?subdivision .\n",
    "  ?subdivision rdfs:label ?label .\n",
    "}\n",
    "\"\"\")\n",
    "sparql.setReturnFormat(JSON)\n",
    "results = sparql.query()\n",
    "results.print_results()"
   ]
  },
  {
   "cell_type": "code",
   "execution_count": null,
   "metadata": {
    "collapsed": true
   },
   "outputs": [],
   "source": []
  }
 ],
 "metadata": {
  "anaconda-cloud": {},
  "kernelspec": {
   "display_name": "Python [default]",
   "language": "python",
   "name": "python2"
  },
  "language_info": {
   "codemirror_mode": {
    "name": "ipython",
    "version": 2
   },
   "file_extension": ".py",
   "mimetype": "text/x-python",
   "name": "python",
   "nbconvert_exporter": "python",
   "pygments_lexer": "ipython2",
   "version": "2.7.12"
  }
 },
 "nbformat": 4,
 "nbformat_minor": 0
}
