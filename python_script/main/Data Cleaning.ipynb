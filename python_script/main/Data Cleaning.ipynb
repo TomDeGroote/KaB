{
 "cells": [
  {
   "cell_type": "code",
   "execution_count": null,
   "metadata": {
    "collapsed": false
   },
   "outputs": [],
   "source": [
    "from SPARQLWrapper import SPARQLWrapper, JSON\n",
    "\n",
    "sparql = SPARQLWrapper(\"http://dbpedia.org/sparql\")\n",
    "\n",
    "sparql.setQuery(\"\"\"\n",
    "    PREFIX rdfs: <http://www.w3.org/2000/01/rdf-schema#>\n",
    "    SELECT ?label\n",
    "    WHERE { <http://dbpedia.org/resource/Asturias> rdfs:label ?label }\n",
    "\"\"\")\n",
    "sparql.setReturnFormat(JSON)\n",
    "results = sparql.query()\n",
    "results.print_results()\n",
    "\n",
    "print\n",
    "\n",
    "sparql.setQuery(\"\"\"\n",
    "PREFIX rdfs: <http://www.w3.org/2000/01/rdf-schema#>\n",
    "PREFIX dbpo: <http://dbpedia.org/property/>\n",
    "SELECT ?subdivision ?label \n",
    "WHERE { \n",
    "  <http://dbpedia.org/resource/Asturias> dbpo:subdivisionName ?subdivision .\n",
    "  ?subdivision rdfs:label ?label .\n",
    "}\n",
    "\"\"\")\n",
    "sparql.setReturnFormat(JSON)\n",
    "results = sparql.query()\n",
    "results.print_results()"
   ]
  },
  {
   "cell_type": "code",
   "execution_count": 1,
   "metadata": {
    "collapsed": true
   },
   "outputs": [],
   "source": [
    "import numpy as np\n",
    "import pandas as pd\n",
    "from collections import Counter\n",
    "import re\n",
    "import csv"
   ]
  },
  {
   "cell_type": "markdown",
   "metadata": {
    "collapsed": true
   },
   "source": [
    "# Checking Routines"
   ]
  },
  {
   "cell_type": "code",
   "execution_count": 2,
   "metadata": {
    "collapsed": true
   },
   "outputs": [],
   "source": [
    "import os"
   ]
  },
  {
   "cell_type": "code",
   "execution_count": 3,
   "metadata": {
    "collapsed": true
   },
   "outputs": [],
   "source": [
    "def check_frame(df_in, columns, column_types):\n",
    "    df = df_in.copy()\n",
    "    for i,j in zip(columns,column_types):\n",
    "        print('Currently Processing:',i,j)\n",
    "        arr = df[i].tolist()\n",
    "        if j == 'year':\n",
    "            year_arr, flag = check_year(arr)\n",
    "            df[i] = year_arr\n",
    "            if not flag:\n",
    "                print('Some years are missing.')\n",
    "        elif j == 'cat':\n",
    "            check_categorical(arr)\n",
    "        elif j == 'num':\n",
    "            num_arr, flag = check_numeric(arr)\n",
    "            df[i] = num_arr\n",
    "            if not flag:\n",
    "                print('Some values are missing.')\n",
    "        elif j == 'none':\n",
    "            print('Column is dropped.')\n",
    "            df = df.drop(i, 1)\n",
    "    return df"
   ]
  },
  {
   "cell_type": "code",
   "execution_count": 4,
   "metadata": {
    "collapsed": true
   },
   "outputs": [],
   "source": [
    "def check_numeric(arr):\n",
    "    flag = True\n",
    "    float_arr, float_flag = check_float(arr)\n",
    "    num_arr = float_arr\n",
    "    if float_flag:        \n",
    "        int_arr, int_flag = check_int(float_arr)\n",
    "        if int_flag:\n",
    "            print(\"Array is Integer.\")\n",
    "            num_arr = int_arr\n",
    "            flag = int_flag\n",
    "        else:\n",
    "            print(\"Array is Float.\")\n",
    "            flag = float_flag\n",
    "    \n",
    "    return num_arr, flag\n",
    "    \n",
    "def check_int(arr):\n",
    "    flag = True\n",
    "    int_arr = []\n",
    "    for flo in arr:\n",
    "        bool_int = flo.is_integer()\n",
    "        if bool_int:\n",
    "            int_flo = int(flo)\n",
    "            int_arr.append(int_flo)\n",
    "        else:\n",
    "            int_arr.append(np.NaN)\n",
    "            flag = False\n",
    "        \n",
    "    return int_arr, flag\n",
    "\n",
    "def check_float(arr):\n",
    "    flag = True\n",
    "    float_arr = []\n",
    "    for s in arr:\n",
    "        try:\n",
    "            float_s = float(s.replace(',', ''))\n",
    "            float_arr.append(float_s)\n",
    "        except ValueError:\n",
    "            float_arr.append(np.NaN)\n",
    "            flag = False\n",
    "        \n",
    "    return float_arr, flag\n",
    "\n",
    "def check_categorical(arr):\n",
    "    print(\"Categories:\")\n",
    "    cnt = Counter(arr)\n",
    "    print(cnt.items())\n",
    "    print\n",
    "    return\n",
    "\n",
    "def check_year(arr):\n",
    "    flag = True\n",
    "    yr_arr = []\n",
    "    int_arr, flag = check_numeric(arr)\n",
    "    for yr in int_arr:\n",
    "        if yr >= 1975 and yr <= 2016:\n",
    "            yr_arr.append(yr)\n",
    "        else:\n",
    "            yr_arr.append(np.NaN)\n",
    "            flag = False\n",
    "    return yr_arr, flag"
   ]
  },
  {
   "cell_type": "code",
   "execution_count": null,
   "metadata": {
    "collapsed": false
   },
   "outputs": [
    {
     "name": "stdout",
     "output_type": "stream",
     "text": [
      "('Processing file:', 'crime.csv')\n",
      "['TIME', 'GEO', 'ICCS', 'UNIT', 'Value', 'Flag and Footnotes']\n",
      "Please specify the types of these columns. Options are: year, cat (categorical), num (numeric), none (column is not needed).\n",
      "TIME\n",
      "year\n",
      "GEO\n",
      "cat\n",
      "ICCS\n",
      "cat\n",
      "UNIT\n",
      "cat\n",
      "Value\n",
      "num\n",
      "Flag and Footnotes\n",
      "none\n",
      "('Currently Processing:', 'TIME', 'year')\n",
      "Array is Integer.\n",
      "('Currently Processing:', 'GEO', 'cat')\n",
      "Categories:\n",
      "[('Turkey', 84), ('Italy', 84), ('Czech Republic', 84), ('Lithuania', 84), ('Luxembourg', 84), ('France', 84), ('Slovakia', 84), ('Ireland', 84), ('England and Wales', 84), ('Norway', 84), ('Scotland', 84), ('Iceland', 84), ('Montenegro', 84), ('Slovenia', 84), ('Bosnia and Herzegovina', 84), ('Belgium', 84), ('Kosovo (under United Nations Security Council Resolution 1244/99)', 84), ('Spain', 84), ('Germany (until 1990 former territory of the FRG)', 84), ('Netherlands', 84), ('Denmark', 84), ('Poland', 84), ('Finland', 84), ('Northern Ireland (UK)', 84), ('Sweden', 84), ('Latvia', 84), ('Croatia', 84), ('Malta', 84), ('Switzerland', 84), ('Bulgaria', 84), ('Romania', 84), ('Albania', 84), ('Portugal', 84), ('Estonia', 84), ('Former Yugoslav Republic of Macedonia, the', 84), ('Serbia', 84), ('Liechtenstein', 84), ('Austria', 84), ('Greece', 84), ('Hungary', 84), ('Cyprus', 84)]\n",
      "\n",
      "('Currently Processing:', 'ICCS', 'cat')\n",
      "Categories:\n",
      "[('Sexual assault', 574), ('Assault', 574), ('Sexual violence', 574), ('Theft', 574), ('Intentional homicide', 574), ('Rape', 574)]\n",
      "\n",
      "('Currently Processing:', 'UNIT', 'cat')\n",
      "Categories:\n",
      "[('Number', 1722), ('Per hundred thousand inhabitants', 1722)]\n",
      "\n",
      "('Currently Processing:', 'Value', 'num')\n",
      "('Currently Processing:', 'Flag and Footnotes', 'none')\n",
      "Column is dropped.\n",
      "('Processing file:', 'educationLevels.csv')\n",
      "['TIME', 'GEO', 'SEX', 'AGE', 'UNIT', 'ISCED11', 'Value', 'Flag and Footnotes']\n",
      "Please specify the types of these columns. Options are: year, cat (categorical), num (numeric), none (column is not needed).\n",
      "TIME\n",
      "year\n",
      "GEO\n",
      "cat\n",
      "SEX\n",
      "none\n",
      "AGE\n",
      "none\n",
      "UNIT\n",
      "cat\n",
      "ISCED11\n",
      "cat\n",
      "Value\n",
      "num\n",
      "Flag and Footnotes\n",
      "none\n",
      "('Currently Processing:', 'TIME', 'year')\n",
      "Array is Integer.\n",
      "('Currently Processing:', 'GEO', 'cat')\n",
      "Categories:\n",
      "[('Turkey', 40), ('European Union (28 countries)', 40), ('Italy', 40), ('Czech Republic', 40), ('Lithuania', 40), ('Luxembourg', 40), ('France', 40), ('Slovakia', 40), ('Ireland', 40), ('Norway', 40), ('Iceland', 40), ('Euro area (17 countries)', 40), ('European Union (15 countries)', 40), ('Slovenia', 40), ('Belgium', 40), ('Euro area (18 countries)', 40), ('Germany (until 1990 former territory of the FRG)', 40), ('Netherlands', 40), ('Denmark', 40), ('Poland', 40), ('Finland', 40), ('Sweden', 40), ('Latvia', 40), ('Croatia', 40), ('Malta', 40), ('European Union (27 countries)', 40), ('Switzerland', 40), ('Bulgaria', 40), ('Romania', 40), ('Portugal', 40), ('Estonia', 40), ('Euro area (19 countries)', 40), ('Former Yugoslav Republic of Macedonia, the', 40), ('United Kingdom', 40), ('Austria', 40), ('Spain', 40), ('Greece', 40), ('Hungary', 40), ('Cyprus', 40)]\n",
      "\n",
      "('Currently Processing:', 'SEX', 'none')\n",
      "Column is dropped.\n",
      "('Currently Processing:', 'AGE', 'none')\n",
      "Column is dropped.\n",
      "('Currently Processing:', 'UNIT', 'cat')\n",
      "Categories:\n",
      "[('Percentage', 1560)]\n",
      "\n",
      "('Currently Processing:', 'ISCED11', 'cat')\n",
      "Categories:\n",
      "[('Upper secondary and post-secondary non-tertiary education (levels 3 and 4)', 390), ('Less than primary, primary and lower secondary education (levels 0-2)', 390), ('Upper secondary, post-secondary non-tertiary and tertiary education (levels 3-8)', 390), ('Tertiary education (levels 5-8)', 390)]\n",
      "\n",
      "('Currently Processing:', 'Value', 'num')\n",
      "Array is Float.\n",
      "('Currently Processing:', 'Flag and Footnotes', 'none')\n",
      "Column is dropped.\n",
      "('Processing file:', 'firstTimeAsylumApplicants.csv')\n",
      "['TIME', 'GEO', 'CITIZEN', 'SEX', 'AGE', 'ASYL_APP', 'UNIT', 'Value', 'Flag and Footnotes']\n",
      "Please specify the types of these columns. Options are: year, cat (categorical), num (numeric), none (column is not needed).\n",
      "TIME\n"
     ]
    }
   ],
   "source": [
    "owd = os.getcwd()\n",
    "filepath_in = \"../raw_csv_storage/\"\n",
    "os.chdir(filepath_in)\n",
    "filepath_out = \"../checked_csv_storage/\"\n",
    "files = os.listdir(os.getcwd())\n",
    "for filename in files:\n",
    "    df = pd.read_csv(filename,dtype='str')\n",
    "    cols = df.columns.tolist()\n",
    "    print('Processing file:', filename)\n",
    "    print(cols)\n",
    "    print('Please specify the types of these columns. Options are: year, \\\n",
    "cat (categorical), num (numeric), none (column is not needed).')\n",
    "    col_types = []\n",
    "    for col in cols:\n",
    "        print(col)\n",
    "        s = raw_input()\n",
    "        col_types.append(s)\n",
    "    df_proc = check_frame(df,cols,col_types)\n",
    "    df_proc.to_csv(filepath_out + filename)\n",
    "\n",
    "    \n",
    "    \n",
    "os.chdir(owd)"
   ]
  },
  {
   "cell_type": "code",
   "execution_count": null,
   "metadata": {
    "collapsed": true
   },
   "outputs": [],
   "source": []
  },
  {
   "cell_type": "code",
   "execution_count": null,
   "metadata": {
    "collapsed": true
   },
   "outputs": [],
   "source": []
  },
  {
   "cell_type": "code",
   "execution_count": null,
   "metadata": {
    "collapsed": true
   },
   "outputs": [],
   "source": []
  },
  {
   "cell_type": "code",
   "execution_count": null,
   "metadata": {
    "collapsed": false
   },
   "outputs": [],
   "source": [
    "filepath = \"../raw_csv_storage/\"\n",
    "filename = \"crime.csv\"\n",
    "crime_df = pd.read_csv(filepath + filename,dtype='str')\n",
    "columns = crime_df.columns.tolist()\n",
    "column_types = ['year','cat','cat','cat','num','none']"
   ]
  },
  {
   "cell_type": "code",
   "execution_count": null,
   "metadata": {
    "collapsed": false
   },
   "outputs": [],
   "source": [
    "df = check_frame(crime_df,columns,column_types)"
   ]
  },
  {
   "cell_type": "code",
   "execution_count": null,
   "metadata": {
    "collapsed": false
   },
   "outputs": [],
   "source": [
    "for i,j in zip(df['Value'],crime_df['Value']):\n",
    "    print(i,j)"
   ]
  },
  {
   "cell_type": "code",
   "execution_count": null,
   "metadata": {
    "collapsed": true
   },
   "outputs": [],
   "source": [
    "df.to_csv('crime_processed.csv')"
   ]
  },
  {
   "cell_type": "code",
   "execution_count": null,
   "metadata": {
    "collapsed": false
   },
   "outputs": [],
   "source": []
  },
  {
   "cell_type": "code",
   "execution_count": null,
   "metadata": {
    "collapsed": false
   },
   "outputs": [],
   "source": [
    "def check_numeric(arr):\n",
    "    flag = True\n",
    "    float_arr, float_flag = check_float(arr)\n",
    "    num_arr = float_arr\n",
    "    if float_flag:        \n",
    "        int_arr, int_flag = check_int(float_arr)\n",
    "        if int_flag:\n",
    "            print(\"Array is Integer.\")\n",
    "            num_arr = int_arr\n",
    "            flag = int_flag\n",
    "        else:\n",
    "            print(\"Array is Float.\")\n",
    "            flag = float_flag\n",
    "    \n",
    "    return num_arr, flag\n",
    "    \n",
    "def check_int(arr):\n",
    "    flag = True\n",
    "    int_arr = []\n",
    "    for flo in arr:\n",
    "        bool_int = flo.is_integer()\n",
    "        if bool_int:\n",
    "            int_flo = int(flo)\n",
    "            int_arr.append(int_flo)\n",
    "        else:\n",
    "            int_arr.append(np.NaN)\n",
    "            flag = False\n",
    "        \n",
    "    return int_arr, flag\n",
    "\n",
    "def check_float(arr):\n",
    "    flag = True\n",
    "    float_arr = []\n",
    "    for s in arr:\n",
    "        try:\n",
    "            float_s = float(s.replace(',', ''))\n",
    "            float_arr.append(float_s)\n",
    "        except ValueError:\n",
    "            float_arr.append(np.NaN)\n",
    "            flag = False\n",
    "        \n",
    "    return float_arr, flag\n",
    "\n",
    "def check_categorical(arr):\n",
    "    print(\"Categories:\")\n",
    "    cnt = Counter(arr)\n",
    "    print(cnt.items())\n",
    "    print\n",
    "    return\n",
    "\n",
    "def check_year(arr):\n",
    "    flag = True\n",
    "    yr_arr = []\n",
    "    int_arr, flag = check_numeric(arr)\n",
    "    for yr in int_arr:\n",
    "        if yr >= 1975 and yr <= 2016:\n",
    "            yr_arr.append(yr)\n",
    "        else:\n",
    "            yr_arr.append(np.NaN)\n",
    "            flag = False\n",
    "    return yr_arr, flag"
   ]
  },
  {
   "cell_type": "code",
   "execution_count": null,
   "metadata": {
    "collapsed": false
   },
   "outputs": [],
   "source": [
    "py = raw_input()"
   ]
  },
  {
   "cell_type": "code",
   "execution_count": null,
   "metadata": {
    "collapsed": false
   },
   "outputs": [],
   "source": [
    "type(py)"
   ]
  },
  {
   "cell_type": "code",
   "execution_count": null,
   "metadata": {
    "collapsed": true
   },
   "outputs": [],
   "source": []
  },
  {
   "cell_type": "code",
   "execution_count": null,
   "metadata": {
    "collapsed": true
   },
   "outputs": [],
   "source": []
  }
 ],
 "metadata": {
  "anaconda-cloud": {},
  "kernelspec": {
   "display_name": "Python [default]",
   "language": "python",
   "name": "python2"
  },
  "language_info": {
   "codemirror_mode": {
    "name": "ipython",
    "version": 2
   },
   "file_extension": ".py",
   "mimetype": "text/x-python",
   "name": "python",
   "nbconvert_exporter": "python",
   "pygments_lexer": "ipython2",
   "version": "2.7.12"
  }
 },
 "nbformat": 4,
 "nbformat_minor": 0
}
